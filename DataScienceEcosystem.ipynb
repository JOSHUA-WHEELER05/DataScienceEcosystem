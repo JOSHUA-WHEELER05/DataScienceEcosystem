{
  "metadata": {
    "kernelspec": {
      "name": "python",
      "display_name": "Python (Pyodide)",
      "language": "python"
    },
    "language_info": {
      "name": ""
    }
  },
  "nbformat_minor": 5,
  "nbformat": 4,
  "cells": [
    {
      "id": "6e0864ee-9bce-4e5b-b6f4-472c2817d160",
      "cell_type": "markdown",
      "source": "# Data Science Tools and Ecosystem",
      "metadata": {}
    },
    {
      "id": "3030c4de-e3f7-4698-8dd6-f36f8dc0c792",
      "cell_type": "markdown",
      "source": "## In this notebook, Data Science Tools and Ecosystem are summarized.",
      "metadata": {}
    },
    {
      "id": "d8164b03-8c6f-4c23-b18a-d98163b69265",
      "cell_type": "markdown",
      "source": "#### Objectives:\n- popular languages\n- commonly used libraries\n- Data Science Tools",
      "metadata": {}
    },
    {
      "id": "9301c559-5869-412a-8c73-32cc77f1aee9",
      "cell_type": "markdown",
      "source": "Some of the popular languages that Data Scientists use are:\n1. Python\n2. R\n3. Java",
      "metadata": {}
    },
    {
      "id": "1c409b4d-621e-4fd8-a4a4-7c5058ea6f87",
      "cell_type": "markdown",
      "source": "Some of the commonly used libraries used by Data Scientists include:\n1. Matplotlib\n2. NumPy\n3. Ploty",
      "metadata": {}
    },
    {
      "id": "452de577-28b5-4405-8cae-6c0075c0d3c3",
      "cell_type": "markdown",
      "source": "|Data Science Tools|\n|------------------|\n|Apache Spark|\n|Jupyter notebook|\n|KNIME|",
      "metadata": {}
    },
    {
      "id": "d1bf49c5-d548-4a12-9734-fe744c5d8fa2",
      "cell_type": "markdown",
      "source": "### Below are a few examples of evaluating arithmetic expressions in Python",
      "metadata": {}
    },
    {
      "id": "db238ad9-d615-4476-896c-8087bb1d18a4",
      "cell_type": "markdown",
      "source": "## Author\n### Joshua Wheeler",
      "metadata": {}
    },
    {
      "id": "28ad8955-e062-4fa7-9876-287b70594004",
      "cell_type": "code",
      "source": "",
      "metadata": {
        "trusted": true
      },
      "outputs": [],
      "execution_count": null
    }
  ]
}